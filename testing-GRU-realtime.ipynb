{
 "cells": [
  {
   "cell_type": "markdown",
   "metadata": {},
   "source": [
    "### **Import Dependecies**"
   ]
  },
  {
   "cell_type": "code",
   "execution_count": 2,
   "metadata": {},
   "outputs": [],
   "source": [
    "import cv2\n",
    "import numpy as np\n",
    "import tensorflow as tf\n",
    "import mediapipe as mp\n",
    "import time"
   ]
  },
  {
   "cell_type": "markdown",
   "metadata": {},
   "source": [
    "### **Extracting Key Points on Hand Landmarks**"
   ]
  },
  {
   "cell_type": "code",
   "execution_count": 4,
   "metadata": {},
   "outputs": [],
   "source": [
    "# Define\n",
    "mp_holistic = mp.solutions.holistic \n",
    "mp_drawing = mp.solutions.drawing_utils \n",
    "\n",
    "# Fungsi untuk deteksi landmark\n",
    "def mediapipe_detection(image, model):\n",
    "    image = cv2.cvtColor(image, cv2.COLOR_BGR2RGB) # COLOR CONVERSION BGR 2 RGB\n",
    "    image.flags.writeable = False                  # Image is no longer writeable\n",
    "    results = model.process(image)                 # Make prediction\n",
    "    image.flags.writeable = True                   # Image is now writeable \n",
    "    image = cv2.cvtColor(image, cv2.COLOR_RGB2BGR) # COLOR COVERSION RGB 2 BGR\n",
    "    \n",
    "    return image, results\n",
    "\n",
    "# Draw hand connections\n",
    "def draw_landmarks(image, results):\n",
    "    if results.left_hand_landmarks:\n",
    "        mp_drawing.draw_landmarks(\n",
    "            image, \n",
    "            results.left_hand_landmarks, \n",
    "            mp_holistic.HAND_CONNECTIONS,\n",
    "            landmark_drawing_spec=mp_drawing.DrawingSpec(color=(121,22,76), thickness=2, circle_radius=4),\n",
    "            connection_drawing_spec=mp_drawing.DrawingSpec(color=(121,44,250), thickness=2, circle_radius=2)\n",
    "        )\n",
    "\n",
    "    if results.right_hand_landmarks:\n",
    "        mp_drawing.draw_landmarks(\n",
    "            image, \n",
    "            results.right_hand_landmarks, \n",
    "            mp_holistic.HAND_CONNECTIONS,\n",
    "            landmark_drawing_spec=mp_drawing.DrawingSpec(color=(245,117,66), thickness=2, circle_radius=4),\n",
    "            connection_drawing_spec=mp_drawing.DrawingSpec(color=(245,66,230), thickness=2, circle_radius=2)\n",
    "        )\n",
    "\n",
    "# Fungsi untuk mengekstraksi keypoints\n",
    "def extract_keypoints(results):\n",
    "    lh = np.array([[res.x, res.y, res.z] for res in results.left_hand_landmarks.landmark]).flatten() if results.left_hand_landmarks else np.zeros(21*3)\n",
    "    rh = np.array([[res.x, res.y, res.z] for res in results.right_hand_landmarks.landmark]).flatten() if results.right_hand_landmarks else np.zeros(21*3)\n",
    "    \n",
    "    return np.concatenate([lh, rh])\n"
   ]
  },
  {
   "cell_type": "markdown",
   "metadata": {},
   "source": [
    "### **Load the model**"
   ]
  },
  {
   "cell_type": "code",
   "execution_count": 5,
   "metadata": {},
   "outputs": [
    {
     "name": "stdout",
     "output_type": "stream",
     "text": [
      " Volume in drive C is Acer\n",
      " Volume Serial Number is DCE0-3687\n",
      "\n",
      " Directory of c:\\Users\\melli\\Dropbox\\PC\\Downloads\\sign-lang-capstone\\testing\n",
      "\n",
      "15/06/2024  01:10    <DIR>          .\n",
      "15/06/2024  01:10    <DIR>          ..\n",
      "15/06/2024  00:57         1.777.856 33Class_GRU_acc098_loss01_50seq.h5\n",
      "01/06/2024  19:44               113 requirements.txt\n",
      "15/06/2024  01:11             9.343 testing-GRU-realtime.ipynb\n",
      "05/06/2024  14:56            10.811 tflite.ipynb\n",
      "               4 File(s)      1.798.123 bytes\n",
      "               2 Dir(s)  57.784.176.640 bytes free\n"
     ]
    }
   ],
   "source": [
    "ls"
   ]
  },
  {
   "cell_type": "code",
   "execution_count": 6,
   "metadata": {},
   "outputs": [],
   "source": [
    "# Daftar class actions\n",
    "actions = np.array(['A', 'B', 'C', 'D', 'E', \n",
    "                    'F', 'G', 'H', 'I', 'J', \n",
    "                    'K', 'L', 'M', 'N', 'O', \n",
    "                    'P', 'Q', 'R', 'S', 'T',\n",
    "                    'U', 'V', 'W', 'X', 'Y', \n",
    "                    'Z', 'Halo', 'Perkenalkan', 'Nama',\n",
    "                    'Saya', 'Senang', 'Bertemu', 'Kamu'])"
   ]
  },
  {
   "cell_type": "code",
   "execution_count": 7,
   "metadata": {},
   "outputs": [],
   "source": [
    "model = tf.keras.models.load_model(\"33Class_GRU_acc098_loss01_50seq.h5\")"
   ]
  },
  {
   "cell_type": "code",
   "execution_count": 12,
   "metadata": {},
   "outputs": [
    {
     "name": "stdout",
     "output_type": "stream",
     "text": [
      "1/1 [==============================] - 0s 28ms/step\n",
      "Z\n",
      "1/1 [==============================] - 0s 40ms/step\n",
      "Halo\n",
      "1/1 [==============================] - 0s 27ms/step\n",
      "Perkenalkan\n",
      "1/1 [==============================] - 0s 45ms/step\n",
      "Nama\n",
      "1/1 [==============================] - 0s 39ms/step\n",
      "Saya\n",
      "1/1 [==============================] - 0s 64ms/step\n",
      "M\n",
      "1/1 [==============================] - 0s 58ms/step\n",
      "E\n",
      "1/1 [==============================] - 0s 63ms/step\n",
      "L\n",
      "1/1 [==============================] - 0s 34ms/step\n",
      "L\n",
      "1/1 [==============================] - 0s 45ms/step\n",
      "I\n",
      "1/1 [==============================] - 0s 32ms/step\n",
      "S\n",
      "1/1 [==============================] - 0s 43ms/step\n",
      "A\n",
      "1/1 [==============================] - 0s 31ms/step\n",
      "Senang\n",
      "1/1 [==============================] - 0s 54ms/step\n",
      "Bertemu\n",
      "1/1 [==============================] - 0s 44ms/step\n",
      "Kamu\n"
     ]
    }
   ],
   "source": [
    "# Initialize variables\n",
    "sequence = []\n",
    "sentence = []\n",
    "predictions = []\n",
    "\n",
    "threshold = 0.95\n",
    "\n",
    "state = 'countdown'\n",
    "countdown_time = 3\n",
    "display_time = 2\n",
    "start_time = time.time()\n",
    "\n",
    "cap = cv2.VideoCapture(2)\n",
    "mp_holistic = mp.solutions.holistic\n",
    "\n",
    "# Helper function to show countdown\n",
    "def show_countdown(image, seconds_left):\n",
    "    cv2.putText(image, f'Memulai prediksi dalam {seconds_left}..', (100, 250), \n",
    "                cv2.FONT_HERSHEY_SIMPLEX, 2, (0, 0, 255), 4, cv2.LINE_AA)\n",
    "\n",
    "with mp_holistic.Holistic(min_detection_confidence=0.5, min_tracking_confidence=0.5) as holistic:\n",
    "    while cap.isOpened():\n",
    "        # Read frame\n",
    "        ret, frame = cap.read()\n",
    "\n",
    "        current_time = time.time()\n",
    "        \n",
    "        if state == 'countdown':\n",
    "            seconds_left = countdown_time - int(current_time - start_time)\n",
    "            image = frame.copy()\n",
    "            show_countdown(image, seconds_left)\n",
    "            \n",
    "            if seconds_left <= 0:\n",
    "                state = 'collecting'\n",
    "                start_time = current_time\n",
    "                sequence = []\n",
    "        \n",
    "        elif state == 'collecting':\n",
    "            # Perform detection\n",
    "            image, results = mediapipe_detection(frame, holistic)\n",
    "            draw_landmarks(image, results)\n",
    "            \n",
    "            # Prediction logic\n",
    "            keypoints = extract_keypoints(results)\n",
    "            sequence.append(keypoints)\n",
    "            \n",
    "            if len(sequence) == 30:\n",
    "                res = model.predict(np.expand_dims(sequence, axis=0))[0]\n",
    "\n",
    "                print(actions[np.argmax(res)])\n",
    "                predictions.append(np.argmax(res))\n",
    "                \n",
    "                # Update sentence based on prediction\n",
    "                if np.unique(predictions[-28:])[0] == np.argmax(res):\n",
    "                    if res[np.argmax(res)] > threshold:\n",
    "                        if len(sentence) > 0:\n",
    "                            if actions[np.argmax(res)] != sentence[-1]:\n",
    "                                sentence.append(actions[np.argmax(res)])\n",
    "                        else:\n",
    "                            sentence.append(actions[np.argmax(res)])\n",
    "                \n",
    "                if len(sentence) > 5:\n",
    "                    sentence = sentence[-5:]\n",
    "\n",
    "                state = 'displaying'\n",
    "                start_time = current_time\n",
    "        \n",
    "        elif state == 'displaying':\n",
    "            # Display the prediction\n",
    "            if len(sentence) > 0:\n",
    "                cv2.putText(image, ' '.join(sentence), (3, 30), cv2.FONT_HERSHEY_SIMPLEX, 1, (255, 255, 255), 2, cv2.LINE_AA)\n",
    "            \n",
    "            if (current_time - start_time) > display_time:\n",
    "                state = 'countdown'\n",
    "                start_time = current_time\n",
    "\n",
    "        # Show the frame\n",
    "        cv2.imshow('OpenCV Feed', image)\n",
    "\n",
    "        # Break gracefully\n",
    "        if cv2.waitKey(10) & 0xFF == ord('q'):\n",
    "            break\n",
    "\n",
    "    cap.release()\n",
    "    cv2.destroyAllWindows()"
   ]
  }
 ],
 "metadata": {
  "kernelspec": {
   "display_name": "bangkit",
   "language": "python",
   "name": "python3"
  },
  "language_info": {
   "codemirror_mode": {
    "name": "ipython",
    "version": 3
   },
   "file_extension": ".py",
   "mimetype": "text/x-python",
   "name": "python",
   "nbconvert_exporter": "python",
   "pygments_lexer": "ipython3",
   "version": "3.10.13"
  }
 },
 "nbformat": 4,
 "nbformat_minor": 2
}
