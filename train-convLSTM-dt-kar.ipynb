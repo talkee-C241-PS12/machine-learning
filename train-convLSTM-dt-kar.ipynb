{
 "cells": [
  {
   "cell_type": "code",
   "execution_count": 1,
   "metadata": {},
   "outputs": [],
   "source": [
    "# Import and install dependencies\n",
    "\n",
    "import cv2\n",
    "import numpy as np\n",
    "import os\n",
    "from matplotlib import pyplot as plt\n",
    "import time\n",
    "import mediapipe as mp\n",
    "import tensorflow as tf\n",
    "import datetime as dt\n",
    "\n",
    "from sklearn.model_selection import train_test_split\n",
    "from tensorflow.keras.utils import to_categorical\n",
    "from sklearn.metrics import multilabel_confusion_matrix, accuracy_score\n",
    "from tensorflow.keras.models import Sequential \n",
    "from tensorflow.keras.layers import LSTM, Dense\n",
    "from tensorflow.keras.callbacks import TensorBoard\n",
    "from tensorflow.keras.layers import Input, RNN, GRU, Dense, BatchNormalization, Dropout\n",
    "from tensorflow.keras.models import Model\n",
    "from tensorflow.keras import regularizers\n",
    "from tensorflow.keras.callbacks import EarlyStopping\n",
    "from tensorflow.keras.utils import plot_model\n"
   ]
  },
  {
   "cell_type": "code",
   "execution_count": 2,
   "metadata": {},
   "outputs": [],
   "source": [
    "mp_holistic = mp.solutions.holistic \n",
    "mp_drawing = mp.solutions.drawing_utils \n",
    "\n",
    "def mediapipe_detection (image, model):    \n",
    "    image = cv2.cvtColor(image, cv2.COLOR_BGR2RGB)      # Convert the image from BGR to RGB color space\n",
    "    image.flags.writeable = False                       # Set the writeable flag of the image to False to prevent modification   \n",
    "    results = model.process(image)                      # Process the image using the provided model (presumably the holistic model)   \n",
    "    image.flags.writeable = True                        # Set the writeable flag of the image back to True for further processing   \n",
    "    image = cv2.cvtColor(image, cv2.COLOR_RGB2BGR)      # Convert the image back from RGB to BGR color space\n",
    "    return image, results\n",
    "\n",
    "def draw_styled_landmarks(image, results):\n",
    "    # Draw left hand Connection\n",
    "    mp_drawing.draw_landmarks(image, results.left_hand_landmarks, mp_holistic.HAND_CONNECTIONS,\n",
    "                                mp_drawing.DrawingSpec(color = (121, 22, 76), thickness = 2, circle_radius = 4),\n",
    "                                mp_drawing.DrawingSpec(color = (121, 44, 250), thickness =2, circle_radius =2)\n",
    "                                ) \n",
    "    \n",
    "    # Draw right hand Connection   \n",
    "    mp_drawing.draw_landmarks(image, results.right_hand_landmarks, mp_holistic.HAND_CONNECTIONS,\n",
    "                                mp_drawing.DrawingSpec(color = (245, 117, 66), thickness = 1, circle_radius = 4),\n",
    "                                mp_drawing.DrawingSpec(color = (245, 66, 230), thickness =1, circle_radius =2)\n",
    "                                )   \n",
    "    \n",
    "def extract_keypoints(results):\n",
    "    lh = np.array([[res.x, res.y, res.z] for res in results.left_hand_landmarks.landmark]).flatten() if results.left_hand_landmarks else np.zeros(21*3)\n",
    "    rh = np.array([[res.x, res.y, res.z] for res in results.right_hand_landmarks.landmark]).flatten() if results.right_hand_landmarks else np.zeros(21*3)\n",
    "    return np.concatenate([lh, rh])"
   ]
  },
  {
   "cell_type": "code",
   "execution_count": 11,
   "metadata": {},
   "outputs": [
    {
     "data": {
      "text/plain": [
       "{'A': 0,\n",
       " 'B': 1,\n",
       " 'C': 2,\n",
       " 'D': 3,\n",
       " 'E': 4,\n",
       " 'F': 5,\n",
       " 'G': 6,\n",
       " 'H': 7,\n",
       " 'I': 8,\n",
       " 'J': 9,\n",
       " 'K': 10,\n",
       " 'L': 11,\n",
       " 'M': 12,\n",
       " 'N': 13,\n",
       " 'O': 14,\n",
       " 'P': 15,\n",
       " 'Q': 16,\n",
       " 'R': 17,\n",
       " 'S': 18,\n",
       " 'T': 19,\n",
       " 'U': 20,\n",
       " 'V': 21,\n",
       " 'W': 22,\n",
       " 'X': 23,\n",
       " 'Y': 24,\n",
       " 'Z': 25,\n",
       " 'Halo': 26,\n",
       " 'Perkenalkan': 27,\n",
       " 'Nama': 28,\n",
       " 'Saya': 29,\n",
       " 'Senang': 30,\n",
       " 'Bertemu': 31,\n",
       " 'Kamu': 32}"
      ]
     },
     "execution_count": 11,
     "metadata": {},
     "output_type": "execute_result"
    }
   ],
   "source": [
    "# labelling\n",
    "\n",
    "DATA_PATH = 'dataset/dta-25'\n",
    "\n",
    "actions = np.array(['A', 'B', 'C', 'D', 'E', 'F', \n",
    "                    'G', 'H', 'I', 'J', 'K', 'L', \n",
    "                    'M', 'N', 'O', 'P', 'Q', 'R', \n",
    "                    'S', 'T', 'U', 'V', 'W', 'X', \n",
    "                    'Y', 'Z', 'Halo', 'Perkenalkan', 'Nama',\n",
    "                    'Saya', 'Senang', 'Bertemu', 'Kamu'])\n",
    "\n",
    "sequence_length = 30\n",
    "label_map = {label:num for num, label in enumerate(actions)}\n",
    "label_map\n"
   ]
  },
  {
   "cell_type": "code",
   "execution_count": 41,
   "metadata": {},
   "outputs": [
    {
     "name": "stdout",
     "output_type": "stream",
     "text": [
      "Width: 640\n",
      "Height: 480\n"
     ]
    }
   ],
   "source": [
    "import cv2\n",
    "\n",
    "# Read an image file\n",
    "img = cv2.imread('dataset/dti-25/A/0/0.jpg')\n",
    "height, width, _ = img.shape\n",
    "\n",
    "print(f'Width: {width}')\n",
    "print(f'Height: {height}')\n"
   ]
  },
  {
   "cell_type": "code",
   "execution_count": 12,
   "metadata": {},
   "outputs": [],
   "source": [
    "sequences, labels = [], []\n",
    "for action in actions:\n",
    "    for sequence in np.array(os.listdir(os.path.join(DATA_PATH, action))).astype(int):\n",
    "        window = []\n",
    "        for frame_num in range(sequence_length):\n",
    "            res = np.load(os.path.join(DATA_PATH, action, str(sequence), \"{}.npy\".format(frame_num)))\n",
    "            window.append(res)\n",
    "        sequences.append(window)\n",
    "        labels.append(label_map[action])"
   ]
  },
  {
   "cell_type": "code",
   "execution_count": 13,
   "metadata": {},
   "outputs": [
    {
     "data": {
      "text/plain": [
       "(825, 30, 126)"
      ]
     },
     "execution_count": 13,
     "metadata": {},
     "output_type": "execute_result"
    }
   ],
   "source": [
    "np.array(sequences).shape"
   ]
  },
  {
   "cell_type": "code",
   "execution_count": 14,
   "metadata": {},
   "outputs": [
    {
     "data": {
      "text/plain": [
       "(825,)"
      ]
     },
     "execution_count": 14,
     "metadata": {},
     "output_type": "execute_result"
    }
   ],
   "source": [
    "np.array(labels).shape"
   ]
  },
  {
   "cell_type": "code",
   "execution_count": 15,
   "metadata": {},
   "outputs": [],
   "source": [
    "# Convert to numpy array\n",
    "sequences = np.array(sequences)\n",
    "labels = np.array(labels)"
   ]
  },
  {
   "cell_type": "code",
   "execution_count": 16,
   "metadata": {},
   "outputs": [],
   "source": [
    "# Reshape data to add channel dimension\n",
    "X = sequences.reshape((sequences.shape[0], sequences.shape[1], sequences.shape[2], 1, 1))\n",
    "\n",
    "# One-hot encode labels\n",
    "y = tf.keras.utils.to_categorical(labels, num_classes=len(actions))"
   ]
  },
  {
   "cell_type": "code",
   "execution_count": 17,
   "metadata": {},
   "outputs": [],
   "source": [
    "X_train, X_test, y_train, y_test = train_test_split(X, y, test_size=0.05)"
   ]
  },
  {
   "cell_type": "code",
   "execution_count": 18,
   "metadata": {},
   "outputs": [
    {
     "name": "stdout",
     "output_type": "stream",
     "text": [
      "Model: \"sequential\"\n",
      "_________________________________________________________________\n",
      " Layer (type)                Output Shape              Param #   \n",
      "=================================================================\n",
      " conv_lstm2d (ConvLSTM2D)    (None, 30, 126, 1, 4)     96        \n",
      "                                                                 \n",
      " max_pooling3d (MaxPooling3D  (None, 30, 63, 1, 4)     0         \n",
      " )                                                               \n",
      "                                                                 \n",
      " time_distributed (TimeDistr  (None, 30, 63, 1, 4)     0         \n",
      " ibuted)                                                         \n",
      "                                                                 \n",
      " conv_lstm2d_1 (ConvLSTM2D)  (None, 30, 63, 1, 8)      1568      \n",
      "                                                                 \n",
      " max_pooling3d_1 (MaxPooling  (None, 30, 32, 1, 8)     0         \n",
      " 3D)                                                             \n",
      "                                                                 \n",
      " time_distributed_1 (TimeDis  (None, 30, 32, 1, 8)     0         \n",
      " tributed)                                                       \n",
      "                                                                 \n",
      " conv_lstm2d_2 (ConvLSTM2D)  (None, 30, 32, 1, 14)     4984      \n",
      "                                                                 \n",
      " max_pooling3d_2 (MaxPooling  (None, 30, 16, 1, 14)    0         \n",
      " 3D)                                                             \n",
      "                                                                 \n",
      " time_distributed_2 (TimeDis  (None, 30, 16, 1, 14)    0         \n",
      " tributed)                                                       \n",
      "                                                                 \n",
      " conv_lstm2d_3 (ConvLSTM2D)  (None, 30, 16, 1, 16)     7744      \n",
      "                                                                 \n",
      " max_pooling3d_3 (MaxPooling  (None, 30, 8, 1, 16)     0         \n",
      " 3D)                                                             \n",
      "                                                                 \n",
      " flatten (Flatten)           (None, 3840)              0         \n",
      "                                                                 \n",
      " dense (Dense)               (None, 33)                126753    \n",
      "                                                                 \n",
      "=================================================================\n",
      "Total params: 141,145\n",
      "Trainable params: 141,145\n",
      "Non-trainable params: 0\n",
      "_________________________________________________________________\n",
      "Model created successfully!\n"
     ]
    }
   ],
   "source": [
    "from tensorflow.keras.models import Sequential\n",
    "from tensorflow.keras.layers import ConvLSTM2D, MaxPooling3D, TimeDistributed, Dropout, Flatten, Dense\n",
    "import tensorflow as tf\n",
    "\n",
    "def create_convlstm_model():\n",
    "    model = Sequential()\n",
    "    model.add(ConvLSTM2D(filters=4, kernel_size=(1, 1), activation='tanh', data_format=\"channels_last\",\n",
    "                        recurrent_dropout=0.2, return_sequences=True, input_shape=(30, 126, 1, 1)))\n",
    "    \n",
    "    model.add(MaxPooling3D(pool_size=(1, 2, 2), padding='same', data_format='channels_last'))\n",
    "    model.add(TimeDistributed(Dropout(0.2)))\n",
    "    \n",
    "    model.add(ConvLSTM2D(filters=8, kernel_size=(2, 2), activation='tanh', data_format=\"channels_last\",\n",
    "                        recurrent_dropout=0.2, return_sequences=True, padding='same'))\n",
    "    \n",
    "    model.add(MaxPooling3D(pool_size=(1, 2, 2), padding='same', data_format='channels_last'))\n",
    "    model.add(TimeDistributed(Dropout(0.2)))\n",
    "    \n",
    "    model.add(ConvLSTM2D(filters=14, kernel_size=(2, 2), activation='tanh', data_format=\"channels_last\",\n",
    "                        recurrent_dropout=0.2, return_sequences=True, padding='same'))\n",
    "    \n",
    "    model.add(MaxPooling3D(pool_size=(1, 2, 2), padding='same', data_format='channels_last'))\n",
    "    model.add(TimeDistributed(Dropout(0.2)))\n",
    "    \n",
    "    model.add(ConvLSTM2D(filters=16, kernel_size=(2, 2), activation='tanh', data_format=\"channels_last\",\n",
    "                        recurrent_dropout=0.2, return_sequences=True, padding='same'))\n",
    "    \n",
    "    model.add(MaxPooling3D(pool_size=(1, 2, 2), padding='same', data_format='channels_last'))\n",
    "    \n",
    "    model.add(Flatten())\n",
    "    \n",
    "    model.add(Dense(len(actions), activation=\"softmax\"))\n",
    "    \n",
    "    model.summary()\n",
    "    \n",
    "    return model\n",
    "\n",
    "convlstm_model = create_convlstm_model()\n",
    "print(\"Model created successfully!\")\n"
   ]
  },
  {
   "cell_type": "code",
   "execution_count": 19,
   "metadata": {},
   "outputs": [],
   "source": [
    "# Define the custom callback\n",
    "class myCallback(tf.keras.callbacks.Callback):\n",
    "    def on_epoch_end(self, epoch, logs=None):\n",
    "        logs = logs or {}\n",
    "        if (logs.get('accuracy') > 0.98) and (logs.get('val_accuracy') > 0.98):\n",
    "            print(\"\\nCategorical accuracy is higher than 0.91 and loss is lower than 0.19, stopping training!\")\n",
    "            self.model.stop_training = True\n",
    "\n",
    "# Instantiate the custom callback\n",
    "custom_callback = myCallback()\n",
    "\n",
    "# Set up the TensorBoard callback\n",
    "log_dir = os.path.join('Logs')\n",
    "tb_callback = TensorBoard(log_dir=log_dir)\n",
    "\n",
    "# Combine both callbacks\n",
    "callback = [custom_callback, tb_callback]"
   ]
  },
  {
   "cell_type": "code",
   "execution_count": 21,
   "metadata": {},
   "outputs": [],
   "source": [
    "# early_stopping_callback = EarlyStopping(monitor = 'val_loss', patience = 10, mode = 'min', restore_best_weights = True)\n",
    " \n",
    "# Compile the model and specify loss function, optimizer and metrics values to the model\n",
    "convlstm_model.compile(loss = 'categorical_crossentropy', optimizer = 'Adam', metrics = [\"accuracy\"])"
   ]
  },
  {
   "cell_type": "code",
   "execution_count": 22,
   "metadata": {},
   "outputs": [
    {
     "name": "stdout",
     "output_type": "stream",
     "text": [
      "Epoch 1/800\n",
      "196/196 [==============================] - 1258s 6s/step - loss: 2.9468 - accuracy: 0.1073\n",
      "Epoch 2/800\n",
      "196/196 [==============================] - 1170s 6s/step - loss: 2.3106 - accuracy: 0.2963\n",
      "Epoch 3/800\n",
      "196/196 [==============================] - 2060s 11s/step - loss: 1.6116 - accuracy: 0.4764\n",
      "Epoch 4/800\n",
      "196/196 [==============================] - 1238s 6s/step - loss: 1.2070 - accuracy: 0.6207\n",
      "Epoch 5/800\n",
      "196/196 [==============================] - 1151s 6s/step - loss: 0.9056 - accuracy: 0.7063\n",
      "Epoch 6/800\n",
      "196/196 [==============================] - 1204s 6s/step - loss: 0.6863 - accuracy: 0.7867\n",
      "Epoch 7/800\n",
      "196/196 [==============================] - 1257s 6s/step - loss: 0.5807 - accuracy: 0.8123\n",
      "Epoch 8/800\n",
      "196/196 [==============================] - 1322s 7s/step - loss: 0.4909 - accuracy: 0.8455\n",
      "Epoch 9/800\n",
      "196/196 [==============================] - 24044s 123s/step - loss: 0.3652 - accuracy: 0.8914\n",
      "Epoch 10/800\n",
      "196/196 [==============================] - 1508s 8s/step - loss: 0.3021 - accuracy: 0.8978\n",
      "Epoch 11/800\n",
      "196/196 [==============================] - 1380s 7s/step - loss: 0.2441 - accuracy: 0.9170\n",
      "Epoch 12/800\n",
      "196/196 [==============================] - 1408s 7s/step - loss: 0.2809 - accuracy: 0.9132\n",
      "Epoch 13/800\n",
      "196/196 [==============================] - 1209s 6s/step - loss: 0.1868 - accuracy: 0.9413\n",
      "Epoch 14/800\n",
      "196/196 [==============================] - 1210s 6s/step - loss: 0.1788 - accuracy: 0.9400\n",
      "Epoch 15/800\n",
      "196/196 [==============================] - 1265s 6s/step - loss: 0.1534 - accuracy: 0.9566\n",
      "Epoch 16/800\n",
      "196/196 [==============================] - 1281s 7s/step - loss: 0.1341 - accuracy: 0.9630\n",
      "Epoch 17/800\n",
      "196/196 [==============================] - 1276s 7s/step - loss: 0.1077 - accuracy: 0.9655\n",
      "Epoch 18/800\n",
      "196/196 [==============================] - 1301s 7s/step - loss: 0.1426 - accuracy: 0.9553\n",
      "Epoch 19/800\n",
      "196/196 [==============================] - 1489s 8s/step - loss: 0.1408 - accuracy: 0.9604\n",
      "Epoch 20/800\n",
      "196/196 [==============================] - 1232s 6s/step - loss: 0.0677 - accuracy: 0.9796\n",
      "Epoch 21/800\n",
      "196/196 [==============================] - 1191s 6s/step - loss: 0.1248 - accuracy: 0.9579\n",
      "Epoch 22/800\n",
      "196/196 [==============================] - ETA: 0s - loss: 0.0497 - accuracy: 0.9872"
     ]
    },
    {
     "ename": "TypeError",
     "evalue": "'>' not supported between instances of 'NoneType' and 'float'",
     "output_type": "error",
     "traceback": [
      "\u001b[1;31m---------------------------------------------------------------------------\u001b[0m",
      "\u001b[1;31mTypeError\u001b[0m                                 Traceback (most recent call last)",
      "Cell \u001b[1;32mIn[22], line 1\u001b[0m\n\u001b[1;32m----> 1\u001b[0m convlstm_model_training_history \u001b[38;5;241m=\u001b[39m \u001b[43mconvlstm_model\u001b[49m\u001b[38;5;241;43m.\u001b[39;49m\u001b[43mfit\u001b[49m\u001b[43m(\u001b[49m\u001b[43mX_train\u001b[49m\u001b[43m,\u001b[49m\u001b[43m \u001b[49m\u001b[43my_train\u001b[49m\u001b[43m,\u001b[49m\u001b[43m \u001b[49m\u001b[43mepochs\u001b[49m\u001b[43m \u001b[49m\u001b[38;5;241;43m=\u001b[39;49m\u001b[43m \u001b[49m\u001b[38;5;241;43m800\u001b[39;49m\u001b[43m,\u001b[49m\u001b[43m \u001b[49m\u001b[43mbatch_size\u001b[49m\u001b[43m \u001b[49m\u001b[38;5;241;43m=\u001b[39;49m\u001b[43m \u001b[49m\u001b[38;5;241;43m4\u001b[39;49m\u001b[43m,\u001b[49m\u001b[43m \u001b[49m\u001b[43mshuffle\u001b[49m\u001b[43m \u001b[49m\u001b[38;5;241;43m=\u001b[39;49m\u001b[43m \u001b[49m\u001b[38;5;28;43;01mTrue\u001b[39;49;00m\u001b[43m,\u001b[49m\u001b[43m \u001b[49m\u001b[43mcallbacks\u001b[49m\u001b[43m \u001b[49m\u001b[38;5;241;43m=\u001b[39;49m\u001b[43m \u001b[49m\u001b[43mcallback\u001b[49m\u001b[43m)\u001b[49m\n",
      "File \u001b[1;32mc:\\Users\\niput\\anaconda3\\envs\\signLanguage\\lib\\site-packages\\keras\\utils\\traceback_utils.py:70\u001b[0m, in \u001b[0;36mfilter_traceback.<locals>.error_handler\u001b[1;34m(*args, **kwargs)\u001b[0m\n\u001b[0;32m     67\u001b[0m     filtered_tb \u001b[38;5;241m=\u001b[39m _process_traceback_frames(e\u001b[38;5;241m.\u001b[39m__traceback__)\n\u001b[0;32m     68\u001b[0m     \u001b[38;5;66;03m# To get the full stack trace, call:\u001b[39;00m\n\u001b[0;32m     69\u001b[0m     \u001b[38;5;66;03m# `tf.debugging.disable_traceback_filtering()`\u001b[39;00m\n\u001b[1;32m---> 70\u001b[0m     \u001b[38;5;28;01mraise\u001b[39;00m e\u001b[38;5;241m.\u001b[39mwith_traceback(filtered_tb) \u001b[38;5;28;01mfrom\u001b[39;00m \u001b[38;5;28;01mNone\u001b[39;00m\n\u001b[0;32m     71\u001b[0m \u001b[38;5;28;01mfinally\u001b[39;00m:\n\u001b[0;32m     72\u001b[0m     \u001b[38;5;28;01mdel\u001b[39;00m filtered_tb\n",
      "Cell \u001b[1;32mIn[19], line 5\u001b[0m, in \u001b[0;36mmyCallback.on_epoch_end\u001b[1;34m(self, epoch, logs)\u001b[0m\n\u001b[0;32m      3\u001b[0m \u001b[38;5;28;01mdef\u001b[39;00m \u001b[38;5;21mon_epoch_end\u001b[39m(\u001b[38;5;28mself\u001b[39m, epoch, logs\u001b[38;5;241m=\u001b[39m\u001b[38;5;28;01mNone\u001b[39;00m):\n\u001b[0;32m      4\u001b[0m     logs \u001b[38;5;241m=\u001b[39m logs \u001b[38;5;129;01mor\u001b[39;00m {}\n\u001b[1;32m----> 5\u001b[0m     \u001b[38;5;28;01mif\u001b[39;00m (logs\u001b[38;5;241m.\u001b[39mget(\u001b[38;5;124m'\u001b[39m\u001b[38;5;124maccuracy\u001b[39m\u001b[38;5;124m'\u001b[39m) \u001b[38;5;241m>\u001b[39m \u001b[38;5;241m0.98\u001b[39m) \u001b[38;5;129;01mand\u001b[39;00m (\u001b[43mlogs\u001b[49m\u001b[38;5;241;43m.\u001b[39;49m\u001b[43mget\u001b[49m\u001b[43m(\u001b[49m\u001b[38;5;124;43m'\u001b[39;49m\u001b[38;5;124;43mval_accuracy\u001b[39;49m\u001b[38;5;124;43m'\u001b[39;49m\u001b[43m)\u001b[49m\u001b[43m \u001b[49m\u001b[38;5;241;43m>\u001b[39;49m\u001b[43m \u001b[49m\u001b[38;5;241;43m0.98\u001b[39;49m):\n\u001b[0;32m      6\u001b[0m         \u001b[38;5;28mprint\u001b[39m(\u001b[38;5;124m\"\u001b[39m\u001b[38;5;130;01m\\n\u001b[39;00m\u001b[38;5;124mCategorical accuracy is higher than 0.91 and loss is lower than 0.19, stopping training!\u001b[39m\u001b[38;5;124m\"\u001b[39m)\n\u001b[0;32m      7\u001b[0m         \u001b[38;5;28mself\u001b[39m\u001b[38;5;241m.\u001b[39mmodel\u001b[38;5;241m.\u001b[39mstop_training \u001b[38;5;241m=\u001b[39m \u001b[38;5;28;01mTrue\u001b[39;00m\n",
      "\u001b[1;31mTypeError\u001b[0m: '>' not supported between instances of 'NoneType' and 'float'"
     ]
    }
   ],
   "source": [
    "convlstm_model_training_history = convlstm_model.fit(X_train, y_train, validation_data=(X_test, y_test), epochs = 800, batch_size = 12, shuffle = True, callbacks = callback)"
   ]
  },
  {
   "cell_type": "code",
   "execution_count": 23,
   "metadata": {},
   "outputs": [],
   "source": [
    "convlstm_model.save('33C_ConvLSTM_ac098_ls01_s25.h5')"
   ]
  },
  {
   "cell_type": "code",
   "execution_count": 25,
   "metadata": {},
   "outputs": [
    {
     "ename": "TypeError",
     "evalue": "'History' object is not subscriptable",
     "output_type": "error",
     "traceback": [
      "\u001b[1;31m---------------------------------------------------------------------------\u001b[0m",
      "\u001b[1;31mTypeError\u001b[0m                                 Traceback (most recent call last)",
      "Cell \u001b[1;32mIn[25], line 5\u001b[0m\n\u001b[0;32m      2\u001b[0m history \u001b[38;5;241m=\u001b[39m convlstm_model\u001b[38;5;241m.\u001b[39mhistory\n\u001b[0;32m      4\u001b[0m \u001b[38;5;66;03m# Extract accuracy, validation accuracy, loss, and validation loss\u001b[39;00m\n\u001b[1;32m----> 5\u001b[0m accuracy \u001b[38;5;241m=\u001b[39m \u001b[43mhistory\u001b[49m\u001b[43m[\u001b[49m\u001b[38;5;124;43m'\u001b[39;49m\u001b[38;5;124;43maccuracy\u001b[39;49m\u001b[38;5;124;43m'\u001b[39;49m\u001b[43m]\u001b[49m\n\u001b[0;32m      6\u001b[0m val_accuracy \u001b[38;5;241m=\u001b[39m history[\u001b[38;5;124m'\u001b[39m\u001b[38;5;124mval_accuracy\u001b[39m\u001b[38;5;124m'\u001b[39m]\n\u001b[0;32m      7\u001b[0m loss \u001b[38;5;241m=\u001b[39m history[\u001b[38;5;124m'\u001b[39m\u001b[38;5;124mloss\u001b[39m\u001b[38;5;124m'\u001b[39m]\n",
      "\u001b[1;31mTypeError\u001b[0m: 'History' object is not subscriptable"
     ]
    }
   ],
   "source": [
    "# Assuming convlstm_model_training_history is the variable holding the history after training\n",
    "history = convlstm_model.history\n",
    "\n",
    "# Extract accuracy, validation accuracy, loss, and validation loss\n",
    "accuracy = history['accuracy']\n",
    "val_accuracy = history['val_accuracy']\n",
    "loss = history['loss']\n",
    "val_loss = history['val_loss']\n",
    "\n",
    "# Create subplots\n",
    "fig, (ax1, ax2) = plt.subplots(1, 2, figsize=(20, 6))\n",
    "\n",
    "# Plot accuracy\n",
    "ax1.plot(accuracy, label='Training Accuracy')\n",
    "ax1.plot(val_accuracy, label='Validation Accuracy')\n",
    "ax1.set_title('Model Accuracy')\n",
    "ax1.set_xlabel('Epoch')\n",
    "ax1.set_ylabel('Accuracy')\n",
    "ax1.legend(loc='upper left')\n",
    "ax1.grid(True)\n",
    "\n",
    "# Plot loss\n",
    "ax2.plot(loss, label='Training Loss')\n",
    "ax2.plot(val_loss, label='Validation Loss')\n",
    "ax2.set_title('Model Loss')\n",
    "ax2.set_xlabel('Epoch')\n",
    "ax2.set_ylabel('Loss')\n",
    "ax2.legend(loc='upper right')\n",
    "ax2.grid(True)\n",
    "\n",
    "plt.show()\n"
   ]
  },
  {
   "cell_type": "code",
   "execution_count": 72,
   "metadata": {},
   "outputs": [
    {
     "name": "stdout",
     "output_type": "stream",
     "text": [
      "2/2 [==============================] - 0s 31ms/step\n"
     ]
    },
    {
     "data": {
      "image/png": "[encoded data removed]",
      "text/plain": [
       "<Figure size 1500x1000 with 5 Axes>"
      ]
     },
     "metadata": {},
     "output_type": "display_data"
    }
   ],
   "source": [
    "import numpy as np\n",
    "import matplotlib.pyplot as plt\n",
    "import seaborn as sns\n",
    "import random\n",
    "from sklearn.metrics import confusion_matrix\n",
    "\n",
    "# Generate predictions on the test set\n",
    "y_pred = convlstm_model.predict(X_test)\n",
    "\n",
    "# Convert predictions and true labels from one-hot encoding to class labels\n",
    "y_pred_classes = np.argmax(y_pred, axis=1)\n",
    "y_true_classes = np.argmax(y_test, axis=1)\n",
    "\n",
    "# Visualize sample predictions\n",
    "num_samples = 5\n",
    "sample_indices = random.sample(range(len(X_test)), num_samples)\n",
    "\n",
    "plt.figure(figsize=(15, 10))\n",
    "for i, idx in enumerate(sample_indices):\n",
    "    plt.subplot(1, num_samples, i+1)\n",
    "    # Assuming the first frame from the sequence for visualization\n",
    "    frame = X_test[idx][:, :, 0, 0].reshape((30, 126))  # Reshape for visualization\n",
    "    \n",
    "    # Display the first frame of the sequence\n",
    "    plt.imshow(frame, cmap='gray')\n",
    "    plt.title(f\"True: {actions[y_true_classes[idx]]}\\nPred: {actions[y_pred_classes[idx]]}\")\n",
    "    plt.axis('off')\n",
    "\n",
    "plt.show()"
   ]
  }
 ],
 "metadata": {
  "kernelspec": {
   "display_name": "signLanguage",
   "language": "python",
   "name": "python3"
  },
  "language_info": {
   "codemirror_mode": {
    "name": "ipython",
    "version": 3
   },
   "file_extension": ".py",
   "mimetype": "text/x-python",
   "name": "python",
   "nbconvert_exporter": "python",
   "pygments_lexer": "ipython3",
   "version": "3.10.13"
  }
 },
 "nbformat": 4,
 "nbformat_minor": 2
}
