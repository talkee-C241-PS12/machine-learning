{
 "cells": [
  {
   "cell_type": "code",
   "execution_count": 1,
   "metadata": {},
   "outputs": [],
   "source": [
    "import cv2\n",
    "import numpy as np\n",
    "import tensorflow as tf\n",
    "import mediapipe as mp\n",
    "import time"
   ]
  },
  {
   "cell_type": "code",
   "execution_count": 2,
   "metadata": {},
   "outputs": [],
   "source": [
    "# Fungsi visualisasi probabilitas\n",
    "def prob_viz(res, actions, input_frame, colors):\n",
    "    output_frame = input_frame.copy()\n",
    "    for num, prob in enumerate(res):\n",
    "        cv2.rectangle(output_frame, (0,60+num*40), (int(prob*100), 90+num*40), colors[num], -1)\n",
    "        cv2.putText(output_frame, actions[num], (0, 85+num*40), cv2.FONT_HERSHEY_SIMPLEX, 1, (255,255,255), 2, cv2.LINE_AA)\n",
    "        \n",
    "    return output_frame\n",
    "\n",
    "# Fungsi untuk deteksi dengan Mediapipe\n",
    "def mediapipe_detection(image, model):\n",
    "    image = cv2.cvtColor(image, cv2.COLOR_BGR2RGB) # COLOR CONVERSION BGR 2 RGB\n",
    "    image.flags.writeable = False                  # Image is no longer writeable\n",
    "    results = model.process(image)                 # Make prediction\n",
    "    image.flags.writeable = True                   # Image is now writeable \n",
    "    image = cv2.cvtColor(image, cv2.COLOR_RGB2BGR) # COLOR COVERSION RGB 2 BGR\n",
    "    \n",
    "    return image, results\n",
    "\n",
    "mp_holistic = mp.solutions.holistic # Holistic model\n",
    "mp_drawing = mp.solutions.drawing_utils # Drawing utilities\n",
    "\n",
    "# Draw hand connections\n",
    "def draw_landmarks(image, results):\n",
    "    if results.left_hand_landmarks:\n",
    "        mp_drawing.draw_landmarks(\n",
    "            image, \n",
    "            results.left_hand_landmarks, \n",
    "            mp_holistic.HAND_CONNECTIONS,\n",
    "            landmark_drawing_spec=mp_drawing.DrawingSpec(color=(121,22,76), thickness=2, circle_radius=4),\n",
    "            connection_drawing_spec=mp_drawing.DrawingSpec(color=(121,44,250), thickness=2, circle_radius=2)\n",
    "        )\n",
    "    if results.right_hand_landmarks:\n",
    "        mp_drawing.draw_landmarks(\n",
    "            image, \n",
    "            results.right_hand_landmarks, \n",
    "            mp_holistic.HAND_CONNECTIONS,\n",
    "            landmark_drawing_spec=mp_drawing.DrawingSpec(color=(245,117,66), thickness=2, circle_radius=4),\n",
    "            connection_drawing_spec=mp_drawing.DrawingSpec(color=(245,66,230), thickness=2, circle_radius=2)\n",
    "        )\n",
    "\n",
    "# Fungsi untuk mengekstraksi keypoints\n",
    "def extract_keypoints(results):\n",
    "    lh = np.array([[res.x, res.y, res.z] for res in results.left_hand_landmarks.landmark]).flatten() if results.left_hand_landmarks else np.zeros(21*3)\n",
    "    rh = np.array([[res.x, res.y, res.z] for res in results.right_hand_landmarks.landmark]).flatten() if results.right_hand_landmarks else np.zeros(21*3)\n",
    "    \n",
    "    return np.concatenate([lh, rh])\n",
    "\n",
    "# Daftar class actions\n",
    "actions = np.array(['A', 'B', 'C', 'D', 'E', \n",
    "                    'F', 'G', 'H', 'I', 'J', \n",
    "                    'K', 'L', 'M', 'N', 'O', \n",
    "                    'P', 'Q', 'R', 'S', 'T', \n",
    "                    'U', 'V', 'W', 'X', 'Y', \n",
    "                    'Z']) \n"
   ]
  },
  {
   "cell_type": "code",
   "execution_count": 3,
   "metadata": {},
   "outputs": [],
   "source": [
    "# Memuat model TFLite\n",
    "interpreter = tf.lite.Interpreter(model_path=\"model_26abjad_gru_99accval_ver3.tflite\")\n",
    "interpreter.allocate_tensors()\n",
    "\n",
    "# Mendapatkan tensor input dan output\n",
    "input_details = interpreter.get_input_details()\n",
    "output_details = interpreter.get_output_details()"
   ]
  },
  {
   "cell_type": "code",
   "execution_count": 22,
   "metadata": {},
   "outputs": [
    {
     "data": {
      "text/plain": [
       "[{'name': 'serving_default_gru_4_input:0',\n",
       "  'index': 0,\n",
       "  'shape': array([  1,  30, 126]),\n",
       "  'shape_signature': array([ -1,  30, 126]),\n",
       "  'dtype': numpy.float32,\n",
       "  'quantization': (0.0, 0),\n",
       "  'quantization_parameters': {'scales': array([], dtype=float32),\n",
       "   'zero_points': array([], dtype=int32),\n",
       "   'quantized_dimension': 0},\n",
       "  'sparsity_parameters': {}}]"
      ]
     },
     "execution_count": 22,
     "metadata": {},
     "output_type": "execute_result"
    }
   ],
   "source": [
    "input_details"
   ]
  },
  {
   "cell_type": "code",
   "execution_count": 23,
   "metadata": {},
   "outputs": [
    {
     "data": {
      "text/plain": [
       "[{'name': 'StatefulPartitionedCall:0',\n",
       "  'index': 53,\n",
       "  'shape': array([ 1, 26]),\n",
       "  'shape_signature': array([-1, 26]),\n",
       "  'dtype': numpy.float32,\n",
       "  'quantization': (0.0, 0),\n",
       "  'quantization_parameters': {'scales': array([], dtype=float32),\n",
       "   'zero_points': array([], dtype=int32),\n",
       "   'quantized_dimension': 0},\n",
       "  'sparsity_parameters': {}}]"
      ]
     },
     "execution_count": 23,
     "metadata": {},
     "output_type": "execute_result"
    }
   ],
   "source": [
    "output_details"
   ]
  },
  {
   "cell_type": "code",
   "execution_count": 4,
   "metadata": {},
   "outputs": [],
   "source": [
    "# Warna untuk visualisasi\n",
    "colors = [      (245,117,16), (117,245,16), (16,117,245), (245,117,16), (117,245,16), (245,117,16), \n",
    "                (117,245,16), (16,117,245), (245,117,16), (117,245,16), (245,117,16), (117,245,16), \n",
    "                (16,117,245), (245,117,16), (245,117,16), (245,117,16), (117,245,16), (16,117,245), \n",
    "                (245,117,16), (117,245,16), (245,117,16), (117,245,16), (16,117,245), (245,117,16), \n",
    "                (117,245,16), (245,117,16), \n",
    "        ]\n"
   ]
  },
  {
   "cell_type": "code",
   "execution_count": 5,
   "metadata": {},
   "outputs": [
    {
     "name": "stdout",
     "output_type": "stream",
     "text": [
      "Z\n",
      "B\n",
      "F\n",
      "G\n",
      "Y\n",
      "Y\n",
      "G\n",
      "G\n",
      "I\n",
      "G\n",
      "Y\n",
      "Y\n",
      "M\n",
      "G\n",
      "Y\n",
      "T\n",
      "P\n",
      "Z\n",
      "J\n",
      "Z\n"
     ]
    }
   ],
   "source": [
    "# Initialize variables\n",
    "sequence = []\n",
    "sentence = []\n",
    "predictions = []\n",
    "\n",
    "threshold = 0.95\n",
    "\n",
    "state = 'countdown'\n",
    "countdown_time = 3\n",
    "display_time = 2\n",
    "start_time = time.time()\n",
    "\n",
    "cap = cv2.VideoCapture(2)\n",
    "mp_holistic = mp.solutions.holistic\n",
    "\n",
    "# Helper function to show countdown\n",
    "def show_countdown(image, seconds_left):\n",
    "    cv2.putText(image, f'Memulai prediksi dalam {seconds_left}..', (100, 250), \n",
    "                cv2.FONT_HERSHEY_SIMPLEX, 2, (0, 0, 255), 4, cv2.LINE_AA)\n",
    "\n",
    "with mp_holistic.Holistic(min_detection_confidence=0.5, min_tracking_confidence=0.5) as holistic:\n",
    "    while cap.isOpened():\n",
    "        # Read frame\n",
    "        ret, frame = cap.read()\n",
    "\n",
    "        current_time = time.time()\n",
    "        \n",
    "        if state == 'countdown':\n",
    "            seconds_left = countdown_time - int(current_time - start_time)\n",
    "            image = frame.copy()\n",
    "            show_countdown(image, seconds_left)\n",
    "            \n",
    "            if seconds_left <= 0:\n",
    "                state = 'collecting'\n",
    "                start_time = current_time\n",
    "                sequence = []\n",
    "        \n",
    "        elif state == 'collecting':\n",
    "            # Perform detection\n",
    "            image, results = mediapipe_detection(frame, holistic)\n",
    "            draw_landmarks(image, results)\n",
    "            \n",
    "            # Prediction logic\n",
    "            keypoints = extract_keypoints(results)\n",
    "            sequence.append(keypoints)\n",
    "            \n",
    "            if len(sequence) == 30:\n",
    "                input_data = np.expand_dims(sequence, axis=0).astype(np.float32)\n",
    "                interpreter.set_tensor(input_details[0]['index'], input_data)\n",
    "                interpreter.invoke()\n",
    "                res = interpreter.get_tensor(output_details[0]['index'])[0]\n",
    "\n",
    "                print(actions[np.argmax(res)])\n",
    "                predictions.append(np.argmax(res))\n",
    "                \n",
    "                # Update sentence based on prediction\n",
    "                if np.unique(predictions[-28:])[0] == np.argmax(res):\n",
    "                    if res[np.argmax(res)] > threshold:\n",
    "                        if len(sentence) > 0:\n",
    "                            if actions[np.argmax(res)] != sentence[-1]:\n",
    "                                sentence.append(actions[np.argmax(res)])\n",
    "                        else:\n",
    "                            sentence.append(actions[np.argmax(res)])\n",
    "                \n",
    "                if len(sentence) > 5:\n",
    "                    sentence = sentence[-5:]\n",
    "\n",
    "                state = 'displaying'\n",
    "                start_time = current_time\n",
    "        \n",
    "        elif state == 'displaying':\n",
    "            # Display the prediction\n",
    "            if len(sentence) > 0:\n",
    "                cv2.putText(image, ' '.join(sentence), (3, 30), cv2.FONT_HERSHEY_SIMPLEX, 1, (255, 255, 255), 2, cv2.LINE_AA)\n",
    "            \n",
    "            if (current_time - start_time) > display_time:\n",
    "                state = 'countdown'\n",
    "                start_time = current_time\n",
    "\n",
    "        # Show the frame\n",
    "        cv2.imshow('OpenCV Feed', image)\n",
    "\n",
    "        # Break gracefully\n",
    "        if cv2.waitKey(10) & 0xFF == ord('q'):\n",
    "            break\n",
    "\n",
    "    cap.release()\n",
    "    cv2.destroyAllWindows()"
   ]
  }
 ],
 "metadata": {
  "kernelspec": {
   "display_name": "bangkit",
   "language": "python",
   "name": "python3"
  },
  "language_info": {
   "codemirror_mode": {
    "name": "ipython",
    "version": 3
   },
   "file_extension": ".py",
   "mimetype": "text/x-python",
   "name": "python",
   "nbconvert_exporter": "python",
   "pygments_lexer": "ipython3",
   "version": "3.10.13"
  }
 },
 "nbformat": 4,
 "nbformat_minor": 2
}
