{
 "cells": [
  {
   "cell_type": "markdown",
   "metadata": {},
   "source": [
    "## Import and install dependencies"
   ]
  },
  {
   "cell_type": "code",
   "execution_count": null,
   "metadata": {},
   "outputs": [],
   "source": [
    "import cv2\n",
    "import numpy as np\n",
    "import os\n",
    "from matplotlib import pyplot as plt\n",
    "import time\n",
    "import mediapipe as mp\n",
    "import tensorflow as tf"
   ]
  },
  {
   "cell_type": "markdown",
   "metadata": {},
   "source": [
    "## Keypoints using MP holistic"
   ]
  },
  {
   "cell_type": "code",
   "execution_count": null,
   "metadata": {},
   "outputs": [],
   "source": [
    "# Just turn on the webcam\n",
    "\n",
    "cap = cv2.VideoCapture(0)\n",
    "\n",
    "while cap.isOpened():\n",
    "    # Read feed\n",
    "    ret, frame = cap.read()\n",
    "    \n",
    "    # Show to screen\n",
    "    cv2.imshow('OpenCV Feed', frame)\n",
    "\n",
    "    # Break gracefully\n",
    "    if cv2.waitKey(10) & 0xFF == ord('q'):\n",
    "        break\n",
    "\n",
    "cap.release()\n",
    "cv2.destroyAllWindows()"
   ]
  },
  {
   "cell_type": "code",
   "execution_count": null,
   "metadata": {},
   "outputs": [],
   "source": [
    "mp_holistic = mp.solutions.holistic # holistic model (untuk deteksi)\n",
    "mp_drawing = mp.solutions.drawing_utils # drawing utiities (untuk drawing)"
   ]
  },
  {
   "cell_type": "code",
   "execution_count": null,
   "metadata": {},
   "outputs": [],
   "source": [
    "def mediapipe_detection(image,model):\n",
    "    image = cv2.cvtColor(image,cv2.COLOR_BGR2RGB)   # color conversion\n",
    "    image.flags.writeable = False                   # image is no longer writeable\n",
    "    results = model.process(image)                  # make prediction\n",
    "    image.flags.writeable = True                    # image is now writeable\n",
    "    image = cv2.cvtColor(image, cv2.COLOR_RGB2BGR)  # color conversion\n",
    "    return image, results"
   ]
  },
  {
   "cell_type": "code",
   "execution_count": null,
   "metadata": {},
   "outputs": [],
   "source": [
    "# 3: trying open webcam\n",
    "\n",
    "cap = cv2.VideoCapture(0)\n",
    "\n",
    "# Set mediapipe model \n",
    "with mp_holistic.Holistic(min_detection_confidence=0.5, min_tracking_confidence=0.5) as holistic:\n",
    "    while cap.isOpened():\n",
    "\n",
    "        # Read feed\n",
    "        ret, frame = cap.read()\n",
    "\n",
    "        # Make detections\n",
    "        image, results = mediapipe_detection(frame, holistic)\n",
    "        print(results)\n",
    "        \n",
    "        # Draw landmarks\n",
    "        # draw_styled_landmarks(image, results)\n",
    "\n",
    "        # Show to screen\n",
    "        cv2.imshow('OpenCV Feed', image)\n",
    "\n",
    "        # Break gracefully\n",
    "        if cv2.waitKey(10) & 0xFF == ord('q'):\n",
    "            break\n",
    "        \n",
    "    cap.release()\n",
    "    cv2.destroyAllWindows()"
   ]
  },
  {
   "cell_type": "code",
   "execution_count": null,
   "metadata": {},
   "outputs": [],
   "source": [
    "# 4: drawing all the landmark (face, pose, hands)\n",
    "\n",
    "def draw_landmarks(image, results):\n",
    "    if results.left_hand_landmarks:\n",
    "        mp_drawing.draw_landmarks(\n",
    "            image, \n",
    "            results.left_hand_landmarks, \n",
    "            mp_holistic.HAND_CONNECTIONS,\n",
    "            landmark_drawing_spec=mp_drawing.DrawingSpec(color=(121,22,76), thickness=2, circle_radius=4),\n",
    "            connection_drawing_spec=mp_drawing.DrawingSpec(color=(121,44,250), thickness=2, circle_radius=2)\n",
    "        )\n",
    "    if results.right_hand_landmarks:\n",
    "        mp_drawing.draw_landmarks(\n",
    "            image, \n",
    "            results.right_hand_landmarks, \n",
    "            mp_holistic.HAND_CONNECTIONS,\n",
    "            landmark_drawing_spec=mp_drawing.DrawingSpec(color=(245,117,66), thickness=2, circle_radius=4),\n",
    "            connection_drawing_spec=mp_drawing.DrawingSpec(color=(245,66,230), thickness=2, circle_radius=2)\n",
    "        )\n"
   ]
  },
  {
   "cell_type": "code",
   "execution_count": null,
   "metadata": {},
   "outputs": [],
   "source": [
    "# 5\n",
    "\n",
    "draw_landmarks(frame, results)"
   ]
  },
  {
   "cell_type": "code",
   "execution_count": null,
   "metadata": {},
   "outputs": [],
   "source": [
    "# 6\n",
    "\n",
    "plt.imshow(cv2.cvtColor(frame, cv2.COLOR_BGR2RGB))"
   ]
  },
  {
   "cell_type": "code",
   "execution_count": null,
   "metadata": {},
   "outputs": [],
   "source": [
    "# 7:  open webcam + using landmark\n",
    "\n",
    "cap = cv2.VideoCapture(0)\n",
    "# Set mediapipe model \n",
    "with mp_holistic.Holistic(min_detection_confidence=0.5, min_tracking_confidence=0.5) as holistic:\n",
    "    while cap.isOpened():\n",
    "\n",
    "        # Read feed\n",
    "        ret, frame = cap.read()\n",
    "\n",
    "        # Make detections\n",
    "        image, results = mediapipe_detection(frame, holistic)\n",
    "        print(results)\n",
    "        \n",
    "        # Draw landmarks\n",
    "        draw_landmarks(image, results)\n",
    "\n",
    "        # Show to screen\n",
    "        cv2.imshow('OpenCV Feed', image)\n",
    "\n",
    "        # Break gracefully\n",
    "        if cv2.waitKey(10) & 0xFF == ord('q'):\n",
    "            break\n",
    "    cap.release()\n",
    "    cv2.destroyAllWindows()"
   ]
  },
  {
   "cell_type": "markdown",
   "metadata": {},
   "source": [
    "## Extract keypoint values"
   ]
  },
  {
   "cell_type": "code",
   "execution_count": null,
   "metadata": {},
   "outputs": [],
   "source": [
    "results"
   ]
  },
  {
   "cell_type": "code",
   "execution_count": null,
   "metadata": {},
   "outputs": [],
   "source": [
    "# 8: extracting all the landmark keypoints\n",
    "\n",
    "def extract_keypoints(results):\n",
    "    lh = np.array([[res.x, res.y, res.z] for res in results.left_hand_landmarks.landmark]).flatten() if results.left_hand_landmarks else np.zeros(21*3)\n",
    "    rh = np.array([[res.x, res.y, res.z] for res in results.right_hand_landmarks.landmark]).flatten() if results.right_hand_landmarks else np.zeros(21*3)\n",
    "    \n",
    "    return np.concatenate([lh, rh])"
   ]
  },
  {
   "cell_type": "code",
   "execution_count": null,
   "metadata": {},
   "outputs": [],
   "source": [
    "result_test = extract_keypoints(results)"
   ]
  },
  {
   "cell_type": "code",
   "execution_count": null,
   "metadata": {},
   "outputs": [],
   "source": [
    "extract_keypoints(results).shape"
   ]
  },
  {
   "cell_type": "markdown",
   "metadata": {},
   "source": [
    "## Setup Folders for collection"
   ]
  },
  {
   "cell_type": "code",
   "execution_count": null,
   "metadata": {},
   "outputs": [],
   "source": [
    "# 9: membuat folder dataset\n",
    "\n",
    "import os\n",
    "import numpy as np\n",
    "\n",
    "# Path for exported data, numpy arrays\n",
    "DATA_PATH = 'DATASET_hrf'\n",
    "\n",
    "# Path for exported images\n",
    "IMAGE_DATA_PATH = 'DATASET_IMAGE_hrf'\n",
    "\n",
    "# Actions that we try to detect\n",
    "actions = np.array(['Q'])\n",
    "\n",
    "# Thirty videos worth of data\n",
    "no_sequences = 25\n",
    "\n",
    "# Videos are going to be 30 frames in length\n",
    "sequence_length = 30\n",
    "\n",
    "# Loop through each action to create directories for both data and images\n",
    "for action in actions:\n",
    "    # Paths for keypoints data and images\n",
    "    action_data_path = os.path.join(DATA_PATH, action)\n",
    "    action_image_path = os.path.join(IMAGE_DATA_PATH, action)\n",
    "\n",
    "    # Ensure directories exist for both keypoints and images\n",
    "    os.makedirs(action_data_path, exist_ok=True)\n",
    "    os.makedirs(action_image_path, exist_ok=True)\n",
    "\n",
    "    # Instead of checking existing directories, we reset sequence numbering for each action\n",
    "    for sequence in range(no_sequences):  # Starts from 0 and goes up to no_sequences - 1\n",
    "        new_data_dir = os.path.join(action_data_path, str(sequence))\n",
    "        new_image_dir = os.path.join(action_image_path, str(sequence))\n",
    "        \n",
    "        os.makedirs(new_data_dir, exist_ok=True)\n",
    "        os.makedirs(new_image_dir, exist_ok=True)\n",
    "\n",
    "# Folder start\n",
    "start_folder = 0"
   ]
  },
  {
   "cell_type": "markdown",
   "metadata": {},
   "source": [
    "## Collect Keypoint Values for Training and Testing"
   ]
  },
  {
   "cell_type": "code",
   "execution_count": null,
   "metadata": {},
   "outputs": [],
   "source": [
    "# 10: membuat dataset\n",
    "\n",
    "import cv2\n",
    "import os\n",
    "import numpy as np\n",
    "import mediapipe as mp\n",
    "\n",
    "# Inisialisasi webcam capture\n",
    "cap = cv2.VideoCapture(0)\n",
    "\n",
    "# Set base directories for keypoints and images (sesuain sama nama folder masing\")\n",
    "DATA_PATH = 'DATASET_hrf' \n",
    "IMAGE_DATA_PATH = 'DATASET_IMAGE_hrf'\n",
    "\n",
    "# Inisialisasi model MediaPipe Holistic dengan threshold kepercayaan\n",
    "mp_holistic = mp.solutions.holistic\n",
    "with mp_holistic.Holistic(min_detection_confidence=0.5, min_tracking_confidence=0.5) as holistic:\n",
    "    while cap.isOpened():  # Terus menangkap frame hingga ditutup secara manual\n",
    "        \n",
    "        # Countdown sebelum pengambilan gambar dimulai\n",
    "        for i in range(3, 0, -1):\n",
    "            ret, frame = cap.read()\n",
    "            cv2.putText(frame, f'Starting in {i}', (200, 200),\n",
    "                        cv2.FONT_HERSHEY_SIMPLEX, 2, (0, 255, 0), 4, cv2.LINE_AA)\n",
    "            cv2.imshow('OpenCV Feed', frame)\n",
    "            cv2.waitKey(1000)  # Tunggu selama 1 detik\n",
    "\n",
    "        # Loop melalui tindakan\n",
    "        for action in actions:\n",
    "            # Loop melalui urutan\n",
    "            for sequence in range(no_sequences):\n",
    "                # Loop melalui frame dalam setiap urutan\n",
    "                for frame_num in range(sequence_length):\n",
    "                    # Baca frame dari feed webcam\n",
    "                    ret, frame = cap.read()\n",
    "\n",
    "                    # Lakukan deteksi menggunakan model Holistic\n",
    "                    image, results = mediapipe_detection(frame, holistic)\n",
    "\n",
    "                    # Gambar landmarks pada frame\n",
    "                    draw_landmarks(image, results)\n",
    "\n",
    "                    # Tampilkan pesan status\n",
    "                    if frame_num == 0:\n",
    "                        cv2.putText(image, 'STARTING_COLLECTION', (120, 200),\n",
    "                                    cv2.FONT_HERSHEY_SIMPLEX, 1, (0, 255, 0), 4, cv2.LINE_AA)\n",
    "                        cv2.putText(image, 'Collecting frames for {} Video Number {}'.format(action, sequence),\n",
    "                                    (15, 12), cv2.FONT_HERSHEY_SIMPLEX, 0.5, (0, 0, 255), 4, cv2.LINE_AA)\n",
    "                        \n",
    "                        # Tampilkan ke layar\n",
    "                        cv2.imshow('OpenCV Feed', image)\n",
    "                        cv2.waitKey(3000)  # Tunggu selama 3 detik\n",
    "\n",
    "                    else:\n",
    "                        cv2.putText(image, 'Collecting frames for {} Video Number {}'.format(action, sequence),\n",
    "                                    (15, 12), cv2.FONT_HERSHEY_SIMPLEX, 0.5, (0, 0, 255), 1, cv2.LINE_AA)\n",
    "\n",
    "                        # Tampilkan frame dengan landmarks\n",
    "                        cv2.imshow('OpenCV Feed', image)\n",
    "\n",
    "                    # Ekstraksi keypoints dan simpan ke file NumPy array\n",
    "                    keypoints = extract_keypoints(results)\n",
    "\n",
    "                    npy_path = os.path.join(DATA_PATH, action, str(sequence), str(frame_num))\n",
    "                    np.save(npy_path, keypoints)\n",
    "\n",
    "                    # Simpan gambar\n",
    "                    img_path = os.path.join(IMAGE_DATA_PATH, action, str(sequence), f\"{frame_num}.jpg\")\n",
    "                    cv2.imwrite(img_path, image)\n",
    "\n",
    "                    # Break out of the loop if 'q' is pressed\n",
    "                    if cv2.waitKey(10) & 0xFF == ord('q'):\n",
    "                        break\n",
    "\n",
    "                # Tampilkan pesan jeda sebelum mulai urutan video berikutnya\n",
    "                if sequence < no_sequences - 1:\n",
    "                    cv2.putText(image, 'WAITING 3 SECONDS', (120, 200),\n",
    "                                cv2.FONT_HERSHEY_SIMPLEX, 1, (255, 0, 0), 4, cv2.LINE_AA)\n",
    "                    cv2.imshow('OpenCV Feed', image)\n",
    "                    cv2.waitKey(3000)  # Tunggu selama 3 detik sebelum memulai urutan berikutnya\n",
    "\n",
    "        # Lepaskan sumber daya webcam dan tutup jendela OpenCV\n",
    "        cap.release()\n",
    "        cv2.destroyAllWindows()"
   ]
  }
 ],
 "metadata": {
  "language_info": {
   "name": "python"
  }
 },
 "nbformat": 4,
 "nbformat_minor": 2
}
